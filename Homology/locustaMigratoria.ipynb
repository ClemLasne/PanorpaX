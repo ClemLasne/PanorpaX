{
 "cells": [
  {
   "cell_type": "code",
   "execution_count": 1,
   "id": "9f9d5fdf-0519-42ba-bfe8-85660ad1cb90",
   "metadata": {},
   "outputs": [],
   "source": [
    "## importing libraries\n",
    "import pandas as pd\n",
    "import numpy as np\n",
    "import seaborn as sns\n",
    "import matplotlib.pyplot as plt\n",
    "from scipy.stats import chi2_contingency\n",
    "from statannot import add_stat_annotation\n",
    "import matplotlib.lines as lines\n",
    "pd.options.mode.chained_assignment = None  # default='warn'"
   ]
  },
  {
   "cell_type": "markdown",
   "id": "65b32d28-cfbc-4339-a945-8a144dd18185",
   "metadata": {
    "tags": []
   },
   "source": [
    "# Locusta migratoria and Cochliomyia hominivorax (screwworm)\n",
    "\n",
    "This notebook needs:\n",
    "- Blat results after best hit and remove redundancy (CDS_vs_genome.sortedbyDB.nonredundant)\n",
    "- 1 to 1 orthologus genes of screwworm-Panorpa (Panorpa_screw_1to1.txt)\n",
    "- Location of screwworm genes (cds_loc.txt)\n",
    "- Panorpa transcripts assignment (X/A) (trans_location25.txt or trans_location_all.txt)\n",
    "\n",
    "\n",
    "It will output:\n",
    "- Plot with percentage of X-linked genes in L. migratoria and location in Panorpa genome: X in F, X not in F, Autosomes (png file)\n",
    "\n"
   ]
  },
  {
   "cell_type": "code",
   "execution_count": 2,
   "id": "88684ec3-7596-4a55-8025-36bd411309ed",
   "metadata": {},
   "outputs": [],
   "source": [
    "## data1: creates dataframe with homologous genes within the screwworm and the species\n",
    "data1 = pd.read_table('CDS_vs_genome.sortedbyDB.nonredundant', delimiter = '\t', header=None)\n",
    "## data: selects only columns 9 and 13 of data1\n",
    "data = data1[[9,13]]\n",
    "## gives names of columns in data\n",
    "data.columns=['Transcript','Scaffold_sp']"
   ]
  },
  {
   "cell_type": "code",
   "execution_count": 3,
   "id": "626f5158-8268-4159-8197-5aaabd57f422",
   "metadata": {},
   "outputs": [],
   "source": [
    "## adds a collumn 'chromosome_sp' to data specifying which scaffolds in the species are X-linked or autosomal\n",
    "## according to the pusblished genome in NCBI with accesion number GCA_026315105.1\n",
    "data['chromosome_sp'] = data['Scaffold_sp'].apply(lambda x: 'X' if x == 'CM048755.1' else 'A')"
   ]
  },
  {
   "cell_type": "code",
   "execution_count": 4,
   "id": "e107766c-a00f-4350-b5e9-e85d87fef131",
   "metadata": {},
   "outputs": [],
   "source": [
    "## dataOrtho: creates dataframe dataOrtho with orthologous genes panorpa/screwworm file from orthofinder 'Panorpa_screw_1to1.txt'\n",
    "dataOrtho = pd.read_table('Panorpa_Chominivorax_1to1.txt', header= None, delimiter=' ')\n",
    "## ortho: dataframe with only column 0 and 1 from dataOrtho\n",
    "ortho = dataOrtho[[0,1]]\n",
    "## gives names to columns in ortho\n",
    "ortho.columns = ['Transcript','trueGenes']\n",
    "## creates daraframe cds_loc with screwworm location and ME assigment file 'cds_loc.txt'\n",
    "cds_loc = pd.read_table('cds_loc.txt', delimiter=',')\n",
    "## merges data and ortho according to 'Transcript' and cds_loc according to 'trueGenes' in tip dataframe\n",
    "tip =  data.merge(ortho, on = ['Transcript']).merge(cds_loc, on = ['trueGenes'])"
   ]
  },
  {
   "cell_type": "markdown",
   "id": "ca6de130-d299-4df8-aad8-3005429e5b2a",
   "metadata": {
    "tags": []
   },
   "source": [
    "# Analysis with 25 largest scaffolds or all scaffolds in Panorpa genome\n",
    "Select file with Panorpa transcripts assignment (X/A) \n",
    "- trans_location25.txt \n",
    "- trans_location_all.txt"
   ]
  },
  {
   "cell_type": "code",
   "execution_count": 5,
   "id": "7ba3d978-f35f-4dce-af85-0809c11cbf60",
   "metadata": {
    "tags": []
   },
   "outputs": [],
   "source": [
    "## trans_loc: creates dataframe from panorpa transcripts location file\n",
    "trans_loc = pd.read_table('trans_location25.txt',delimiter=',')"
   ]
  },
  {
   "cell_type": "markdown",
   "id": "c1fa6b93-8495-4ff9-ad1b-d5e164ab7197",
   "metadata": {},
   "source": [
    "# Homology analysis"
   ]
  },
  {
   "cell_type": "code",
   "execution_count": 6,
   "id": "9015f019-9d48-460c-852a-e2207a9ef665",
   "metadata": {
    "tags": []
   },
   "outputs": [],
   "source": [
    "## merges trans_loc and tip according to 'Transcript' in finald dataframe\n",
    "finald = trans_loc.merge(tip, on = ['Transcript'])"
   ]
  },
  {
   "cell_type": "code",
   "execution_count": 7,
   "id": "06bdc6b5-6d1d-4083-a272-53ed8cca0d95",
   "metadata": {
    "tags": []
   },
   "outputs": [
    {
     "data": {
      "text/html": [
       "<div>\n",
       "<style scoped>\n",
       "    .dataframe tbody tr th:only-of-type {\n",
       "        vertical-align: middle;\n",
       "    }\n",
       "\n",
       "    .dataframe tbody tr th {\n",
       "        vertical-align: top;\n",
       "    }\n",
       "\n",
       "    .dataframe thead tr th {\n",
       "        text-align: left;\n",
       "    }\n",
       "\n",
       "    .dataframe thead tr:last-of-type th {\n",
       "        text-align: right;\n",
       "    }\n",
       "</style>\n",
       "<table border=\"1\" class=\"dataframe\">\n",
       "  <thead>\n",
       "    <tr>\n",
       "      <th>chromosome_pan</th>\n",
       "      <th colspan=\"2\" halign=\"left\">A</th>\n",
       "      <th colspan=\"2\" halign=\"left\">X</th>\n",
       "      <th>Total</th>\n",
       "    </tr>\n",
       "    <tr>\n",
       "      <th>chromosome_sp</th>\n",
       "      <th>A</th>\n",
       "      <th>X</th>\n",
       "      <th>A</th>\n",
       "      <th>X</th>\n",
       "      <th></th>\n",
       "    </tr>\n",
       "    <tr>\n",
       "      <th>trueLocation</th>\n",
       "      <th></th>\n",
       "      <th></th>\n",
       "      <th></th>\n",
       "      <th></th>\n",
       "      <th></th>\n",
       "    </tr>\n",
       "  </thead>\n",
       "  <tbody>\n",
       "    <tr>\n",
       "      <th>A</th>\n",
       "      <td>319</td>\n",
       "      <td>42</td>\n",
       "      <td>13</td>\n",
       "      <td>20</td>\n",
       "      <td>394</td>\n",
       "    </tr>\n",
       "    <tr>\n",
       "      <th>B</th>\n",
       "      <td>329</td>\n",
       "      <td>22</td>\n",
       "      <td>11</td>\n",
       "      <td>12</td>\n",
       "      <td>374</td>\n",
       "    </tr>\n",
       "    <tr>\n",
       "      <th>C</th>\n",
       "      <td>316</td>\n",
       "      <td>17</td>\n",
       "      <td>20</td>\n",
       "      <td>27</td>\n",
       "      <td>380</td>\n",
       "    </tr>\n",
       "    <tr>\n",
       "      <th>D</th>\n",
       "      <td>369</td>\n",
       "      <td>19</td>\n",
       "      <td>20</td>\n",
       "      <td>17</td>\n",
       "      <td>425</td>\n",
       "    </tr>\n",
       "    <tr>\n",
       "      <th>E</th>\n",
       "      <td>389</td>\n",
       "      <td>39</td>\n",
       "      <td>61</td>\n",
       "      <td>39</td>\n",
       "      <td>528</td>\n",
       "    </tr>\n",
       "    <tr>\n",
       "      <th>F</th>\n",
       "      <td>11</td>\n",
       "      <td>0</td>\n",
       "      <td>6</td>\n",
       "      <td>10</td>\n",
       "      <td>27</td>\n",
       "    </tr>\n",
       "    <tr>\n",
       "      <th>Total</th>\n",
       "      <td>1733</td>\n",
       "      <td>139</td>\n",
       "      <td>131</td>\n",
       "      <td>125</td>\n",
       "      <td>2128</td>\n",
       "    </tr>\n",
       "  </tbody>\n",
       "</table>\n",
       "</div>"
      ],
      "text/plain": [
       "chromosome_pan     A         X      Total\n",
       "chromosome_sp      A    X    A    X      \n",
       "trueLocation                             \n",
       "A                319   42   13   20   394\n",
       "B                329   22   11   12   374\n",
       "C                316   17   20   27   380\n",
       "D                369   19   20   17   425\n",
       "E                389   39   61   39   528\n",
       "F                 11    0    6   10    27\n",
       "Total           1733  139  131  125  2128"
      ]
     },
     "execution_count": 7,
     "metadata": {},
     "output_type": "execute_result"
    }
   ],
   "source": [
    "## counts of genes that are X-linked or autosomal in panorpa and in the species\n",
    "## in each trueLocation \"muller element'of the screwworm \n",
    "## nA: genes not assigned to muller elements\n",
    "pd.crosstab(finald.trueLocation, [finald.chromosome_pan, finald.chromosome_sp],\n",
    "            margins=True,margins_name='Total')"
   ]
  },
  {
   "cell_type": "code",
   "execution_count": 8,
   "id": "3891518e-4227-47f6-bd87-91ed4f087055",
   "metadata": {
    "tags": []
   },
   "outputs": [],
   "source": [
    "## how many genes do we have in each category\n",
    "## xxf: X-linked genes in panorpa and the species in the element F of the screwworm\n",
    "## xx: X-linked genes in panorpa and the species\n",
    "## xaf: X-linked genes in panorpa, autosomal in the species in the element F of the screwworm\n",
    "## xa: X-linked genes in panorpa and autosomal in the species\n",
    "## ax: autosomal genes in panorpa and X-lnked in the species\n",
    "## axf: autosomal genes in panorpa and X-linked in the species in the element F of the screwworm\n",
    "## aa: autosomal genes in panorpa and the species\n",
    "## aaf: autosomal genes in panorpa and the species and in the element F of the screwworm\n",
    "xxf = len(finald['chromosome_pan'][(finald['chromosome_pan']==\"X\") & (finald['chromosome_sp']==\"X\") & (finald['trueLocation']==\"F\")].index)\n",
    "xx = len(finald['chromosome_pan'][(finald['chromosome_pan']==\"X\") & (finald['chromosome_sp']==\"X\")].index)\n",
    "xaf = len(finald['chromosome_pan'][(finald['chromosome_pan']==\"X\") & (finald['chromosome_sp']==\"A\") & (finald['trueLocation']==\"F\")].index)\n",
    "xa = len(finald['chromosome_pan'][(finald['chromosome_pan']==\"X\") & (finald['chromosome_sp']==\"A\")].index)\n",
    "ax = len(finald['chromosome_pan'][(finald['chromosome_pan']==\"A\") & (finald['chromosome_sp']==\"X\")].index)\n",
    "axf = len(finald['chromosome_pan'][(finald['chromosome_pan']==\"A\") & (finald['chromosome_sp']==\"X\") & (finald['trueLocation']==\"F\")].index)\n",
    "aa = len(finald['chromosome_pan'][(finald['chromosome_pan']==\"A\") & (finald['chromosome_sp']==\"A\")].index)\n",
    "aaf = len(finald['chromosome_pan'][(finald['chromosome_pan']==\"A\") & (finald['chromosome_sp']==\"A\") & (finald['trueLocation']==\"F\")].index)"
   ]
  },
  {
   "cell_type": "code",
   "execution_count": 9,
   "id": "83687d42-b759-4ae7-b4f5-7b8f0f04876d",
   "metadata": {
    "tags": []
   },
   "outputs": [
    {
     "name": "stderr",
     "output_type": "stream",
     "text": [
      "/python3.9/site-packages/scipy/stats/contingency.py:134: RuntimeWarning: invalid value encountered in divide\n",
      "  expected = reduce(np.multiply, margsums) / observed.sum() ** (d - 1)\n"
     ]
    }
   ],
   "source": [
    "## chromosome: list of chromosomal location in panorpa\n",
    "chromosome = ['X in F','X not F','Autosomes']\n",
    "## frequency: list of the frequency of genes in each chromosomal location\n",
    "frequency =[xxf/(xxf+xaf)*100,(xx-xxf)/((xx-xxf)+(xa-xaf))*100,ax/(ax+aa)*100]\n",
    "## contingency table for each chromosomal location\n",
    "## categorical values: gene type in species (X-linked or autosomal) and location (in F/not in F or autosomal)\n",
    "contg1=[]\n",
    "contg_xf = [[xxf,ax],[xaf,aa]]\n",
    "contg1.append(contg_xf)\n",
    "contg_xnf = [[(xx-xxf),ax],[(xa-xaf),aa]]\n",
    "contg1.append(contg_xnf)\n",
    "pvalues = []\n",
    "## this is just an auxiliar list \n",
    "contg_a = [[0,0],[0,0]]\n",
    "contg1.append(contg_a)\n",
    "pvalues = []\n",
    "## chi-squared test\n",
    "for i in range(3):\n",
    "    tat, p, dof, expected = chi2_contingency(contg1[i])\n",
    "    pvalues.append(p)\n",
    "    i = i+1\n",
    "## df: final dataframe with the frequency and p-values\n",
    "df = pd.DataFrame({'chromosome': chromosome, 'frequency': frequency, 'pvalues': pvalues}, columns=['chromosome', 'pvalues', 'frequency'])"
   ]
  },
  {
   "cell_type": "code",
   "execution_count": 10,
   "id": "fe86ef54-ca13-4633-8f41-fbb8219c01ad",
   "metadata": {
    "tags": []
   },
   "outputs": [
    {
     "data": {
      "text/html": [
       "<div>\n",
       "<style scoped>\n",
       "    .dataframe tbody tr th:only-of-type {\n",
       "        vertical-align: middle;\n",
       "    }\n",
       "\n",
       "    .dataframe tbody tr th {\n",
       "        vertical-align: top;\n",
       "    }\n",
       "\n",
       "    .dataframe thead th {\n",
       "        text-align: right;\n",
       "    }\n",
       "</style>\n",
       "<table border=\"1\" class=\"dataframe\">\n",
       "  <thead>\n",
       "    <tr style=\"text-align: right;\">\n",
       "      <th></th>\n",
       "      <th>chromosome</th>\n",
       "      <th>pvalues</th>\n",
       "      <th>frequency</th>\n",
       "      <th>significance</th>\n",
       "    </tr>\n",
       "  </thead>\n",
       "  <tbody>\n",
       "    <tr>\n",
       "      <th>0</th>\n",
       "      <td>X in F</td>\n",
       "      <td>1.711449e-14</td>\n",
       "      <td>62.500000</td>\n",
       "      <td>***</td>\n",
       "    </tr>\n",
       "    <tr>\n",
       "      <th>1</th>\n",
       "      <td>X not F</td>\n",
       "      <td>7.750053e-73</td>\n",
       "      <td>47.916667</td>\n",
       "      <td>***</td>\n",
       "    </tr>\n",
       "    <tr>\n",
       "      <th>2</th>\n",
       "      <td>Autosomes</td>\n",
       "      <td>NaN</td>\n",
       "      <td>7.425214</td>\n",
       "      <td>ab</td>\n",
       "    </tr>\n",
       "  </tbody>\n",
       "</table>\n",
       "</div>"
      ],
      "text/plain": [
       "  chromosome       pvalues  frequency significance\n",
       "0     X in F  1.711449e-14  62.500000          ***\n",
       "1    X not F  7.750053e-73  47.916667          ***\n",
       "2  Autosomes           NaN   7.425214           ab"
      ]
     },
     "execution_count": 10,
     "metadata": {},
     "output_type": "execute_result"
    }
   ],
   "source": [
    "## (for plot) conditions to assign significance according to p-values\n",
    "##  p-value >= 0.05 : NS\n",
    "##  p-value <= 0.001 : ***\n",
    "##  p-value <= 0.01 : **\n",
    "##  p-value <= 0.05 : *\n",
    "## adds a new column 'significance' to dataframe df\n",
    "df['significance'] = ['NS' if x >= 0.05 else '***' if x <= 0.001 \n",
    "                     else '**' if x <= 0.01 else '*' if x <= 0.05 else 'ab' for x in df['pvalues']]\n",
    "## converts significance labels into a list from the dataframe df\n",
    "sig = df['significance'].tolist()\n",
    "## shows dataframe df\n",
    "df"
   ]
  },
  {
   "cell_type": "markdown",
   "id": "c21ee3af-d0ac-4823-b725-8c2d53c4a958",
   "metadata": {},
   "source": [
    "# Figure"
   ]
  },
  {
   "cell_type": "code",
   "execution_count": 11,
   "id": "026de354-f398-4043-8f96-98f7c52dcaf6",
   "metadata": {},
   "outputs": [
    {
     "data": {
      "image/png": "[encoded data removed]",
      "text/plain": [
       "<Figure size 576x504 with 1 Axes>"
      ]
     },
     "metadata": {
      "needs_background": "light"
     },
     "output_type": "display_data"
    }
   ],
   "source": [
    "## fs: font size\n",
    "fs = 25\n",
    "## final plot\n",
    "plots = df.plot.bar('chromosome','frequency',legend = False, color=['#FFD92F', '#FFD92F', 'gray'], rot = 0,figsize = (8,7), fontsize = fs)\n",
    "## annotates significance labels \n",
    "plots.annotate(sig[0],xy=(1,frequency[0]+4), horizontalalignment='center',\n",
    "              verticalalignment='center',fontsize = fs)\n",
    "plots.annotate(sig[1],xy=(1.5,frequency[1]+4), horizontalalignment='center',\n",
    "              verticalalignment='center',fontsize = fs)\n",
    "## lines for statistical annotations\n",
    "plots.hlines(y=frequency[0]+3, xmin=0.005, xmax=2, linewidth=2, color='black')\n",
    "plots.hlines(y=frequency[1]+3, xmin=1, xmax=2, linewidth=2, color='black')\n",
    "## y-axis limit\n",
    "plt.ylim([0, frequency[0]+10])\n",
    "## labels of x and y- axis\n",
    "plt.xlabel(\"Chromosomal location in $\\it{P. cognata}$\", fontsize=fs)\n",
    "plt.ylabel(\"% of X-linked in $\\it{L. migratoria}$\", fontsize=fs)\n",
    "## saves figure as png\n",
    "plt.savefig('25locusta.png', bbox_inches='tight',dpi=400)\n",
    "## shows plot\n",
    "plt.show()"
   ]
  },
  {
   "cell_type": "code",
   "execution_count": null,
   "id": "cede4547-449c-4f74-9d0a-951d3b0877ae",
   "metadata": {},
   "outputs": [],
   "source": []
  }
 ],
 "metadata": {
  "kernelspec": {
   "display_name": "Python 3 (ipykernel)",
   "language": "python",
   "name": "python3"
  },
  "language_info": {
   "codemirror_mode": {
    "name": "ipython",
    "version": 3
   },
   "file_extension": ".py",
   "mimetype": "text/x-python",
   "name": "python",
   "nbconvert_exporter": "python",
   "pygments_lexer": "ipython3",
   "version": "3.9.9"
  }
 },
 "nbformat": 4,
 "nbformat_minor": 5
}
