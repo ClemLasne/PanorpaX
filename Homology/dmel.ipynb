{
 "cells": [
  {
   "cell_type": "code",
   "execution_count": 1,
   "id": "a0d9fa60-caa9-4e84-b18b-f33524614c23",
   "metadata": {},
   "outputs": [],
   "source": [
    "## importing libraries\n",
    "import pandas as pd\n",
    "import numpy as np\n",
    "import seaborn as sns\n",
    "import matplotlib.pyplot as plt\n",
    "from scipy.stats import chi2_contingency"
   ]
  },
  {
   "cell_type": "markdown",
   "id": "eb6244cd-4a02-4783-ac57-99fbf59d3a5a",
   "metadata": {
    "jp-MarkdownHeadingCollapsed": true,
    "tags": []
   },
   "source": [
    "\n",
    "# Drosophila melanogaster (D. mel) and Panorpa cognata\n",
    "\n",
    "This notebook needs:\n",
    "- Location of d.mel genes in its genome (transcript_names_final.txt'.txt)\n",
    "- Panorpa transcripts assignment (X/A) (trans_location25.txt or trans_location_all.txt)\n",
    "- 1 to 1 orthologus genes of d.mel-Panorpa (Panorpa_Dmel_1to1.txt)\n",
    "\n",
    "It will output:\n",
    "- Plot with percentage of X-linked genes in Panorpa for each d.mel Muller element (png file)\n",
    "\n"
   ]
  },
  {
   "cell_type": "markdown",
   "id": "1d8709db-b4fa-47d3-916d-e0eafd21dff6",
   "metadata": {
    "tags": []
   },
   "source": [
    "# Drosophila melanogaster genes and location"
   ]
  },
  {
   "cell_type": "code",
   "execution_count": 2,
   "id": "811f1900-e53e-4373-9c3f-cb6519dec620",
   "metadata": {
    "tags": []
   },
   "outputs": [],
   "source": [
    "## data1: creates dataframe from transcript_names_final file containing d.mel genes names and their scaffold location\n",
    "data1 = pd.read_table('/nfs/scistore18/vicosgrp/llayanaf/dmel_32/Dmel_longestCDS_chromosome.joinable', delimiter=' ', header=None)\n",
    "## cds_loc: Selects only columns 0 and 1 from data1\n",
    "cds_loc = data1[[0,1]]\n",
    "## gives names to columns in cds_loc\n",
    "cds_loc.columns = ['trueGenes','trueLocation_']\n",
    "## 'trueLocation' is a new column with muller elements assigned in cds_loc\n",
    "cds_loc['trueLocation'] = ['F' if x == '4' else 'E' if x == '3R' \n",
    "                     else 'D' if x == '3L' else 'C' if x == '2R' \n",
    "                     else 'B' if x == '2L' else 'A' if x == 'X' \n",
    "                     else 'nA' for x in cds_loc['trueLocation_']]"
   ]
  },
  {
   "cell_type": "markdown",
   "id": "bb12b0f2-cbdb-4c10-a93f-b990a206740d",
   "metadata": {},
   "source": [
    "# Analysis with 25 largest scaffolds or all scaffolds in Panorpa genome\n",
    "Select file with Panorpa transcripts assignment (X/A) \n",
    "- trans_location25.txt \n",
    "- trans_location_all.txt"
   ]
  },
  {
   "cell_type": "code",
   "execution_count": 3,
   "id": "1b86b330-16b5-4fd8-9ffa-f62f73ad09f1",
   "metadata": {
    "tags": []
   },
   "outputs": [],
   "source": [
    "## trans_loc: creates dataframe from panorpa transcripts location file\n",
    "trans_loc = pd.read_table('/nfs/scistore18/vicosgrp/llayanaf/Scorpionflies/paper/trans_location25.txt',delimiter=',')"
   ]
  },
  {
   "cell_type": "markdown",
   "id": "193974ce-c28d-4169-a4b4-cda33ca135d8",
   "metadata": {
    "tags": []
   },
   "source": [
    "# Homology D. mel-P. cognata"
   ]
  },
  {
   "cell_type": "code",
   "execution_count": 4,
   "id": "703f1f52-1c1d-4c54-b50c-f9e5684133c6",
   "metadata": {},
   "outputs": [],
   "source": [
    "## dataOrtho: creates dataframe with orthologous genes panorpa/d.mel file from orthofinder Panorpa_Dmel_1to1.txt'\n",
    "dataOrtho = pd.read_table('/nfs/scistore18/vicosgrp/llayanaf/Scorpionflies/screwworm/dmel_ortho/OrthoFinder/Results_Mar29/Orthologues/Orthologues_Panorpa_transcriptome_500bp/Panorpa_Dmel_1to1.txt', header= None, delimiter=' ')\n",
    "## ortho: dataframes with only column 0 and 1 from dataOrtho\n",
    "ortho = dataOrtho[[0,1]]\n",
    "## gives names to columns in ortho\n",
    "ortho.columns = ['Transcript','trueGenes']\n",
    "## merges ortho and trans_loc dataframes according to 'Transcript' in panorpa in hom dataframe\n",
    "hom = pd.merge(trans_loc, ortho, on=['Transcript'])\n",
    "## merges cds_loc and hom according to 'trueGenes' in finald dataframe\n",
    "## to know location of homologous genes in d.mel's muller elements\n",
    "finald = pd.merge(hom, cds_loc, on=['trueGenes'])"
   ]
  },
  {
   "cell_type": "code",
   "execution_count": 6,
   "id": "fa5a3099-6475-4a05-8363-50f72b8b7ebf",
   "metadata": {},
   "outputs": [
    {
     "data": {
      "text/html": [
       "<div>\n",
       "<style scoped>\n",
       "    .dataframe tbody tr th:only-of-type {\n",
       "        vertical-align: middle;\n",
       "    }\n",
       "\n",
       "    .dataframe tbody tr th {\n",
       "        vertical-align: top;\n",
       "    }\n",
       "\n",
       "    .dataframe thead th {\n",
       "        text-align: right;\n",
       "    }\n",
       "</style>\n",
       "<table border=\"1\" class=\"dataframe\">\n",
       "  <thead>\n",
       "    <tr style=\"text-align: right;\">\n",
       "      <th>chromosome_pan</th>\n",
       "      <th>A</th>\n",
       "      <th>X</th>\n",
       "      <th>Total</th>\n",
       "    </tr>\n",
       "    <tr>\n",
       "      <th>trueLocation</th>\n",
       "      <th></th>\n",
       "      <th></th>\n",
       "      <th></th>\n",
       "    </tr>\n",
       "  </thead>\n",
       "  <tbody>\n",
       "    <tr>\n",
       "      <th>A</th>\n",
       "      <td>520</td>\n",
       "      <td>39</td>\n",
       "      <td>559</td>\n",
       "    </tr>\n",
       "    <tr>\n",
       "      <th>B</th>\n",
       "      <td>526</td>\n",
       "      <td>29</td>\n",
       "      <td>555</td>\n",
       "    </tr>\n",
       "    <tr>\n",
       "      <th>C</th>\n",
       "      <td>567</td>\n",
       "      <td>79</td>\n",
       "      <td>646</td>\n",
       "    </tr>\n",
       "    <tr>\n",
       "      <th>D</th>\n",
       "      <td>616</td>\n",
       "      <td>60</td>\n",
       "      <td>676</td>\n",
       "    </tr>\n",
       "    <tr>\n",
       "      <th>E</th>\n",
       "      <td>650</td>\n",
       "      <td>132</td>\n",
       "      <td>782</td>\n",
       "    </tr>\n",
       "    <tr>\n",
       "      <th>F</th>\n",
       "      <td>15</td>\n",
       "      <td>24</td>\n",
       "      <td>39</td>\n",
       "    </tr>\n",
       "    <tr>\n",
       "      <th>nA</th>\n",
       "      <td>3</td>\n",
       "      <td>0</td>\n",
       "      <td>3</td>\n",
       "    </tr>\n",
       "    <tr>\n",
       "      <th>Total</th>\n",
       "      <td>2897</td>\n",
       "      <td>363</td>\n",
       "      <td>3260</td>\n",
       "    </tr>\n",
       "  </tbody>\n",
       "</table>\n",
       "</div>"
      ],
      "text/plain": [
       "chromosome_pan     A    X  Total\n",
       "trueLocation                    \n",
       "A                520   39    559\n",
       "B                526   29    555\n",
       "C                567   79    646\n",
       "D                616   60    676\n",
       "E                650  132    782\n",
       "F                 15   24     39\n",
       "nA                 3    0      3\n",
       "Total           2897  363   3260"
      ]
     },
     "execution_count": 6,
     "metadata": {},
     "output_type": "execute_result"
    }
   ],
   "source": [
    "## counts of genes that are X-linked or autosomal in Panorpa\n",
    "## in each trueLocation \"muller element'\n",
    "## nA: genes not assigned to muller elements\n",
    "vi = pd.crosstab(finald.trueLocation, finald.chromosome_pan,\n",
    "            margins=True,margins_name='Total')\n",
    "vi"
   ]
  },
  {
   "cell_type": "code",
   "execution_count": 7,
   "id": "272e1b50-5008-4d9e-922f-dd805d49b492",
   "metadata": {
    "tags": []
   },
   "outputs": [
    {
     "data": {
      "text/html": [
       "<div>\n",
       "<style scoped>\n",
       "    .dataframe tbody tr th:only-of-type {\n",
       "        vertical-align: middle;\n",
       "    }\n",
       "\n",
       "    .dataframe tbody tr th {\n",
       "        vertical-align: top;\n",
       "    }\n",
       "\n",
       "    .dataframe thead th {\n",
       "        text-align: right;\n",
       "    }\n",
       "</style>\n",
       "<table border=\"1\" class=\"dataframe\">\n",
       "  <thead>\n",
       "    <tr style=\"text-align: right;\">\n",
       "      <th></th>\n",
       "      <th>element</th>\n",
       "      <th>frequency</th>\n",
       "      <th>pvalues</th>\n",
       "    </tr>\n",
       "  </thead>\n",
       "  <tbody>\n",
       "    <tr>\n",
       "      <th>0</th>\n",
       "      <td>A</td>\n",
       "      <td>6.976744</td>\n",
       "      <td>7.594067e-04</td>\n",
       "    </tr>\n",
       "    <tr>\n",
       "      <th>1</th>\n",
       "      <td>B</td>\n",
       "      <td>5.225225</td>\n",
       "      <td>1.653728e-06</td>\n",
       "    </tr>\n",
       "    <tr>\n",
       "      <th>2</th>\n",
       "      <td>C</td>\n",
       "      <td>12.229102</td>\n",
       "      <td>3.639280e-01</td>\n",
       "    </tr>\n",
       "    <tr>\n",
       "      <th>3</th>\n",
       "      <td>D</td>\n",
       "      <td>8.875740</td>\n",
       "      <td>4.157954e-02</td>\n",
       "    </tr>\n",
       "    <tr>\n",
       "      <th>4</th>\n",
       "      <td>E</td>\n",
       "      <td>16.879795</td>\n",
       "      <td>7.444461e-09</td>\n",
       "    </tr>\n",
       "    <tr>\n",
       "      <th>5</th>\n",
       "      <td>F</td>\n",
       "      <td>61.538462</td>\n",
       "      <td>1.072391e-22</td>\n",
       "    </tr>\n",
       "  </tbody>\n",
       "</table>\n",
       "</div>"
      ],
      "text/plain": [
       "  element  frequency       pvalues\n",
       "0       A   6.976744  7.594067e-04\n",
       "1       B   5.225225  1.653728e-06\n",
       "2       C  12.229102  3.639280e-01\n",
       "3       D   8.875740  4.157954e-02\n",
       "4       E  16.879795  7.444461e-09\n",
       "5       F  61.538462  1.072391e-22"
      ]
     },
     "execution_count": 7,
     "metadata": {},
     "output_type": "execute_result"
    }
   ],
   "source": [
    "## how many genes do we have in each Muller element that are X-linked and autosomal in Panorpa?\n",
    "## Ax: Genes x-linked in Muller element A\n",
    "## Aa: autosomal genes in Muller element A\n",
    "## ...\n",
    "Ax = len(finald['chromosome_pan'][(finald['chromosome_pan']==\"X\") & (finald['trueLocation']==\"A\")].index)\n",
    "Aa = len(finald['chromosome_pan'][(finald['chromosome_pan']==\"A\") & (finald['trueLocation']==\"A\")].index)\n",
    "Bx = len(finald['chromosome_pan'][(finald['chromosome_pan']==\"X\") & (finald['trueLocation']==\"B\")].index)\n",
    "Ba = len(finald['chromosome_pan'][(finald['chromosome_pan']==\"A\") & (finald['trueLocation']==\"B\")].index)\n",
    "Cx = len(finald['chromosome_pan'][(finald['chromosome_pan']==\"X\") & (finald['trueLocation']==\"C\")].index)\n",
    "Ca = len(finald['chromosome_pan'][(finald['chromosome_pan']==\"A\") & (finald['trueLocation']==\"C\")].index)\n",
    "Dx = len(finald['chromosome_pan'][(finald['chromosome_pan']==\"X\") & (finald['trueLocation']==\"D\")].index)\n",
    "Da = len(finald['chromosome_pan'][(finald['chromosome_pan']==\"A\") & (finald['trueLocation']==\"D\")].index)\n",
    "Ex = len(finald['chromosome_pan'][(finald['chromosome_pan']==\"X\") & (finald['trueLocation']==\"E\")].index)\n",
    "Ea = len(finald['chromosome_pan'][(finald['chromosome_pan']==\"A\") & (finald['trueLocation']==\"E\")].index)\n",
    "Fx = len(finald['chromosome_pan'][(finald['chromosome_pan']==\"X\") & (finald['trueLocation']==\"F\")].index)\n",
    "Fa = len(finald['chromosome_pan'][(finald['chromosome_pan']==\"A\") & (finald['trueLocation']==\"F\")].index)\n",
    "## element: list of muller elements\n",
    "element = ['A','B','C','D','E','F']\n",
    "## frequency: list of frequency for each element. Number of X-linked genes in the total number of genes in that element\n",
    "frequency =[Ax/(Ax+Aa)*100,Bx/(Bx+Ba)*100,Cx/(Cx+Ca)*100,Dx/(Dx+Da)*100,Ex/(Ex+Ea)*100,Fx/(Fx+Fa)*100]\n",
    "## totalX: total number of X-linked genes\n",
    "totalX = Ax+Bx+Cx+Dx+Ex+Fx\n",
    "## totalA: total number of autosomal genes\n",
    "totalA = Aa+Ba+Ca+Da+Ea+Fa\n",
    "## contingency tables for each Muller element\n",
    "## categorical values: gene 'type' (X-linked or autosomal), location (genes are in that element or not)\n",
    "contg1=[]\n",
    "contg_A = [[Ax,(totalX-Ax)],[Aa,(totalA-Aa)]]\n",
    "contg1.append(contg_A)\n",
    "contg_B = [[Bx,(totalX-Bx)],[Ba,(totalA-Ba)]]\n",
    "contg1.append(contg_B)\n",
    "contg_C = [[Cx,(totalX-Cx)],[Ca,(totalA-Ca)]]\n",
    "contg1.append(contg_C)\n",
    "contg_D = [[Dx,(totalX-Dx)],[Da,(totalA-Da)]]\n",
    "contg1.append(contg_D)\n",
    "contg_E = [[Ex,(totalX-Ex)],[Ea,(totalA-Ea)]]\n",
    "contg1.append(contg_E)\n",
    "contg_F = [[Fx,(totalX-Fx)],[Fa,(totalA-Fa)]]\n",
    "contg1.append(contg_F)\n",
    "## chi-squared test for each element\n",
    "pvalues = []\n",
    "for i in range(6):\n",
    "    tat, p, dof, expected = chi2_contingency(contg1[i])\n",
    "    pvalues.append(p)\n",
    "    i = i+1\n",
    "## df: final dataframe with the frequency and p-values for each element\n",
    "df = pd.DataFrame({'element': element, 'frequency': frequency, 'pvalues': pvalues}, columns=['element', 'frequency', 'pvalues'])\n",
    "df"
   ]
  },
  {
   "cell_type": "code",
   "execution_count": 8,
   "id": "b80a55d6-9117-437a-a3ae-3ae1139cf9e8",
   "metadata": {},
   "outputs": [
    {
     "data": {
      "text/html": [
       "<div>\n",
       "<style scoped>\n",
       "    .dataframe tbody tr th:only-of-type {\n",
       "        vertical-align: middle;\n",
       "    }\n",
       "\n",
       "    .dataframe tbody tr th {\n",
       "        vertical-align: top;\n",
       "    }\n",
       "\n",
       "    .dataframe thead th {\n",
       "        text-align: right;\n",
       "    }\n",
       "</style>\n",
       "<table border=\"1\" class=\"dataframe\">\n",
       "  <thead>\n",
       "    <tr style=\"text-align: right;\">\n",
       "      <th></th>\n",
       "      <th>element</th>\n",
       "      <th>frequency</th>\n",
       "      <th>pvalues</th>\n",
       "      <th>significance</th>\n",
       "    </tr>\n",
       "  </thead>\n",
       "  <tbody>\n",
       "    <tr>\n",
       "      <th>0</th>\n",
       "      <td>A</td>\n",
       "      <td>6.976744</td>\n",
       "      <td>7.594067e-04</td>\n",
       "      <td>***</td>\n",
       "    </tr>\n",
       "    <tr>\n",
       "      <th>1</th>\n",
       "      <td>B</td>\n",
       "      <td>5.225225</td>\n",
       "      <td>1.653728e-06</td>\n",
       "      <td>***</td>\n",
       "    </tr>\n",
       "    <tr>\n",
       "      <th>2</th>\n",
       "      <td>C</td>\n",
       "      <td>12.229102</td>\n",
       "      <td>3.639280e-01</td>\n",
       "      <td>NS</td>\n",
       "    </tr>\n",
       "    <tr>\n",
       "      <th>3</th>\n",
       "      <td>D</td>\n",
       "      <td>8.875740</td>\n",
       "      <td>4.157954e-02</td>\n",
       "      <td>*</td>\n",
       "    </tr>\n",
       "    <tr>\n",
       "      <th>4</th>\n",
       "      <td>E</td>\n",
       "      <td>16.879795</td>\n",
       "      <td>7.444461e-09</td>\n",
       "      <td>***</td>\n",
       "    </tr>\n",
       "    <tr>\n",
       "      <th>5</th>\n",
       "      <td>F</td>\n",
       "      <td>61.538462</td>\n",
       "      <td>1.072391e-22</td>\n",
       "      <td>***</td>\n",
       "    </tr>\n",
       "  </tbody>\n",
       "</table>\n",
       "</div>"
      ],
      "text/plain": [
       "  element  frequency       pvalues significance\n",
       "0       A   6.976744  7.594067e-04          ***\n",
       "1       B   5.225225  1.653728e-06          ***\n",
       "2       C  12.229102  3.639280e-01           NS\n",
       "3       D   8.875740  4.157954e-02            *\n",
       "4       E  16.879795  7.444461e-09          ***\n",
       "5       F  61.538462  1.072391e-22          ***"
      ]
     },
     "execution_count": 8,
     "metadata": {},
     "output_type": "execute_result"
    }
   ],
   "source": [
    "## (for plot) conditions to assign significance according to p-values\n",
    "##  p-value >= 0.05 : NS\n",
    "##  p-value <= 0.01 : ***\n",
    "##  p-value <= 0.01 : **\n",
    "##  p-value <= 0.05 : *\n",
    "## adds a new column \"significance\" to dataframe df\n",
    "df['significance'] = ['NS' if x >= 0.05 else '***' if x <= 0.001 \n",
    "                     else '**' if x <= 0.01 else '*' if x <= 0.05 else 'ab' for x in df['pvalues']]\n",
    "## converts significance labels into a list from the dataframe df\n",
    "sig = df['significance'].tolist()\n",
    "\n",
    "df"
   ]
  },
  {
   "cell_type": "markdown",
   "id": "9de06e17-8da1-44e4-a2d6-e5437290dffa",
   "metadata": {
    "tags": []
   },
   "source": [
    "# Final bar plot"
   ]
  },
  {
   "cell_type": "code",
   "execution_count": 9,
   "id": "681ddd00-c769-4bc4-88ac-3ff99ecfbc30",
   "metadata": {
    "tags": []
   },
   "outputs": [
    {
     "data": {
      "image/png": "[encoded data removed]",
      "text/plain": [
       "<Figure size 576x504 with 1 Axes>"
      ]
     },
     "metadata": {
      "needs_background": "light"
     },
     "output_type": "display_data"
    }
   ],
   "source": [
    "## fs: font size\n",
    "fs = 25\n",
    "## treshold to tell us which elements are overrepresented \n",
    "tr = (totalX/(totalA+totalX))*100\n",
    "## final plot\n",
    "plots=df.plot.bar('element','frequency',legend = False, rot = 0,figsize = (8,7), fontsize = fs)\n",
    "## elements which frequency is greater than tr value are painted in 'yellow'\n",
    "for bar in plots.patches:\n",
    "    if bar.get_height() > tr:\n",
    "        bar.set_color('#FFD92F')\n",
    "    else:\n",
    "        bar.set_color('grey')\n",
    "## annotates significance labels for each element\n",
    "plots.annotate( sig[0],xy=(0.005,frequency[0]+0.5), horizontalalignment='center',\n",
    "              verticalalignment='center',fontsize=fs)\n",
    "plots.annotate( sig[1],xy=(1,frequency[1]+0.5), horizontalalignment='center',\n",
    "              verticalalignment='center',fontsize=fs)\n",
    "plots.annotate(sig[2],xy=(2,frequency[2]+3), horizontalalignment='center',\n",
    "              verticalalignment='center',fontsize=fs)\n",
    "plots.annotate( sig[3],xy=(3,frequency[3]+0.5), horizontalalignment='center',\n",
    "              verticalalignment='center',fontsize=fs)\n",
    "plots.annotate( sig[4],xy=(4,frequency[4]+0.5), horizontalalignment='center',\n",
    "              verticalalignment='center',fontsize=fs)\n",
    "plots.annotate(sig[5],xy=(5,frequency[5]+0.5), horizontalalignment='center',\n",
    "              verticalalignment='center',fontsize=fs)\n",
    "## draws tr line\n",
    "plt.axhline(y=tr, color='r', linestyle='dashed')\n",
    "## y-axis limit\n",
    "plt.ylim([0, frequency[5]+5])\n",
    "## labels of x and y- axis\n",
    "plt.xlabel(\"Muller element in $\\it{D.}$ $\\it{melanogaster}$\", fontsize=fs)\n",
    "plt.ylabel(\"% of X-linked orthologs \\n in $\\it{P. cognata}$\", fontsize=fs)\n",
    "## saves figure as png image\n",
    "plt.savefig('/nfs/scistore18/vicosgrp/llayanaf/Scorpionflies/paper/t/dmel.png', bbox_inches='tight',dpi = 400)\n",
    "## shows plot\n",
    "plt.show()"
   ]
  }
 ],
 "metadata": {
  "kernelspec": {
   "display_name": "Python 3 (ipykernel)",
   "language": "python",
   "name": "python3"
  },
  "language_info": {
   "codemirror_mode": {
    "name": "ipython",
    "version": 3
   },
   "file_extension": ".py",
   "mimetype": "text/x-python",
   "name": "python",
   "nbconvert_exporter": "python",
   "pygments_lexer": "ipython3",
   "version": "3.9.9"
  }
 },
 "nbformat": 4,
 "nbformat_minor": 5
}
