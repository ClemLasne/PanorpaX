{
 "cells": [
  {
   "cell_type": "code",
   "execution_count": 1,
   "id": "bd25e7a5-7cf0-4ed7-982c-260443eab8e7",
   "metadata": {
    "tags": []
   },
   "outputs": [],
   "source": [
    "## Importing libraries\n",
    "import pandas as pd\n",
    "import numpy as np\n",
    "import seaborn as sns\n",
    "import matplotlib.pyplot as plt\n",
    "import numpy as np\n",
    "from scipy.stats import chi2_contingency"
   ]
  },
  {
   "cell_type": "code",
   "execution_count": 2,
   "id": "02638e69-4a9c-4d43-bb8f-aafeaf755900",
   "metadata": {
    "tags": []
   },
   "outputs": [],
   "source": [
    "panCDS = pd.read_table('CDS_vs_genome.sortedbyDB.nonredundant', delimiter = '\\t',header=None)\n",
    "panCDS_genome = panCDS[[9,13]]\n",
    "panCDS_genome.columns=['Transcript','Scaffold_pan']"
   ]
  },
  {
   "cell_type": "code",
   "execution_count": 3,
   "id": "01e1e76e-01ce-4986-a6d3-43cd176df75b",
   "metadata": {
    "tags": []
   },
   "outputs": [],
   "source": [
    "## coverage \n",
    "cov = pd.read_table('assign_cov.txt', delimiter=',')"
   ]
  },
  {
   "cell_type": "code",
   "execution_count": 4,
   "id": "bace7614-9105-4331-b4f4-cbe847938912",
   "metadata": {
    "tags": []
   },
   "outputs": [],
   "source": [
    "## location for all scaffolds \n",
    "q = pd.merge(panCDS_genome, cov, on=['Scaffold_pan'])\n",
    "trans_cov = q[['Transcript','Scaffold_pan','chromosome_pan']]\n",
    "trans_cov.to_csv('trans_location_all.txt', index=False)"
   ]
  },
  {
   "cell_type": "markdown",
   "id": "e3e92af5-5c32-4e1f-9ce1-3def91d20764",
   "metadata": {},
   "source": [
    "## 25 largest scaffolds"
   ]
  },
  {
   "cell_type": "code",
   "execution_count": 6,
   "id": "4b6c45f0-99cf-4e18-9292-7dfc9f449453",
   "metadata": {
    "tags": []
   },
   "outputs": [],
   "source": [
    "cov25 = pd.read_table('data25_cov.txt', delimiter=',')"
   ]
  },
  {
   "cell_type": "code",
   "execution_count": 7,
   "id": "33867b27-aa55-4dd1-91fd-42222ed92b05",
   "metadata": {
    "tags": []
   },
   "outputs": [],
   "source": [
    "## location only for the largest 25 scaffolds\n",
    "w = pd.merge(panCDS_genome, cov25, on=['Scaffold_pan'])\n",
    "trans_cov25 = w[['Transcript','Scaffold_pan','chromosome_pan']]\n",
    "trans_cov25.to_csv('trans_location25.txt', index=False)"
   ]
  },
  {
   "cell_type": "code",
   "execution_count": null,
   "id": "70628ff9-27b8-4b23-82fc-02b30dd2de53",
   "metadata": {},
   "outputs": [],
   "source": []
  }
 ],
 "metadata": {
  "kernelspec": {
   "display_name": "Python 3 (ipykernel)",
   "language": "python",
   "name": "python3"
  },
  "language_info": {
   "codemirror_mode": {
    "name": "ipython",
    "version": 3
   },
   "file_extension": ".py",
   "mimetype": "text/x-python",
   "name": "python",
   "nbconvert_exporter": "python",
   "pygments_lexer": "ipython3",
   "version": "3.9.9"
  }
 },
 "nbformat": 4,
 "nbformat_minor": 5
}
